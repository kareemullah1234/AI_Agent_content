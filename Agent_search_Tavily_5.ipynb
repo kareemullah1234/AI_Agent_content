{
  "nbformat": 4,
  "nbformat_minor": 0,
  "metadata": {
    "colab": {
      "provenance": [],
      "authorship_tag": "ABX9TyPBNSE6/tHUe5/L5Ag5EUm5",
      "include_colab_link": true
    },
    "kernelspec": {
      "name": "python3",
      "display_name": "Python 3"
    },
    "language_info": {
      "name": "python"
    }
  },
  "cells": [
    {
      "cell_type": "markdown",
      "metadata": {
        "id": "view-in-github",
        "colab_type": "text"
      },
      "source": [
        "<a href=\"https://colab.research.google.com/github/kareemullah1234/AI_Agent_content/blob/main/Agent_search_Tavily_5.ipynb\" target=\"_parent\"><img src=\"https://colab.research.google.com/assets/colab-badge.svg\" alt=\"Open In Colab\"/></a>"
      ]
    },
    {
      "cell_type": "code",
      "execution_count": 1,
      "metadata": {
        "colab": {
          "base_uri": "https://localhost:8080/"
        },
        "id": "zpz4UlBcZgXC",
        "outputId": "12f4c7ad-4c99-40a6-9927-5ff39271ada9"
      },
      "outputs": [
        {
          "output_type": "stream",
          "name": "stdout",
          "text": [
            "\u001b[?25l   \u001b[90m━━━━━━━━━━━━━━━━━━━━━━━━━━━━━━━━━━━━━━━━\u001b[0m \u001b[32m0.0/3.3 MB\u001b[0m \u001b[31m?\u001b[0m eta \u001b[36m-:--:--\u001b[0m\r\u001b[2K   \u001b[91m━━━━━━━━━━━━━━━━━━━━━━━━━━━━━━━━━━━━\u001b[0m\u001b[90m╺\u001b[0m\u001b[90m━━━\u001b[0m \u001b[32m3.0/3.3 MB\u001b[0m \u001b[31m89.6 MB/s\u001b[0m eta \u001b[36m0:00:01\u001b[0m\r\u001b[2K   \u001b[91m━━━━━━━━━━━━━━━━━━━━━━━━━━━━━━━━━━━━━━━\u001b[0m\u001b[91m╸\u001b[0m \u001b[32m3.3/3.3 MB\u001b[0m \u001b[31m80.4 MB/s\u001b[0m eta \u001b[36m0:00:01\u001b[0m\r\u001b[2K   \u001b[90m━━━━━━━━━━━━━━━━━━━━━━━━━━━━━━━━━━━━━━━━\u001b[0m \u001b[32m3.3/3.3 MB\u001b[0m \u001b[31m44.9 MB/s\u001b[0m eta \u001b[36m0:00:00\u001b[0m\n",
            "\u001b[?25h"
          ]
        }
      ],
      "source": [
        "!pip install -q tavily-python duckduckgo-search beautifulsoup4 requests pygments"
      ]
    },
    {
      "cell_type": "code",
      "source": [
        "#!/usr/bin/env python\n",
        "# coding: utf-8\n",
        "\n",
        "# # 🌐 Lesson 3: Normal Search vs Agentic Search\n",
        "# A comparison of traditional web scraping vs AI-powered agentic search using Tavily\n",
        "\n",
        "import os\n",
        "import re\n",
        "import json\n",
        "import requests\n",
        "from bs4 import BeautifulSoup\n",
        "from duckduckgo_search import DDGS\n",
        "from tavily import TavilyClient\n",
        "from pygments import highlight, lexers, formatters\n",
        "\n",
        "# 🔑 Hardcoded Tavily API Key\n",
        "TAVILY_API_KEY = \"\"\n",
        "os.environ[\"TAVILY_API_KEY\"] = TAVILY_API_KEY  # Set for Tavily client\n",
        "\n",
        "# Initialize Tavily client\n",
        "tavily_client = TavilyClient(api_key=TAVILY_API_KEY)\n",
        "\n"
      ],
      "metadata": {
        "id": "_jiA5zeTZvjJ"
      },
      "execution_count": 2,
      "outputs": []
    },
    {
      "cell_type": "code",
      "source": [
        "\n",
        "\n",
        "def normal_search(query, max_results=3):\n",
        "    \"\"\"\n",
        "    Perform a normal search using DuckDuckGo and return URLs.\n",
        "    This simulates how a traditional scraper works.\n",
        "    \"\"\"\n",
        "    try:\n",
        "        with DDGS() as ddgs:\n",
        "            results = ddgs.text(query, max_results=max_results)\n",
        "\n",
        "        if not results:\n",
        "            print(\"⚠️ No results returned from DuckDuckGo.\")\n",
        "            return []\n",
        "\n",
        "        urls = [r[\"href\"].strip() for r in results if r.get(\"href\")]\n",
        "        if not urls:\n",
        "            print(\"⚠️ No valid URLs found in results.\")\n",
        "        return urls\n",
        "\n",
        "    except Exception as e:\n",
        "        print(f\"⚠️ DuckDuckGo search failed: {e}\")\n",
        "        return []\n",
        "\n",
        "# ========================\n",
        "# 🧩 Helper: Scrape Webpage Content\n",
        "# ========================\n",
        "def scrape_content(url):\n",
        "    \"\"\"\n",
        "    Scrape text from a webpage (like a normal bot would).\n",
        "    This is part of the 'normal search' pipeline.\n",
        "    \"\"\"\n",
        "    if not url:\n",
        "        return \"No URL provided.\"\n",
        "\n",
        "    headers = {'User-Agent': 'Mozilla/5.0 (compatible; ResearchBot/1.0)'}\n",
        "    try:\n",
        "        response = requests.get(url, headers=headers, timeout=5)\n",
        "        response.raise_for_status()\n",
        "        soup = BeautifulSoup(response.text, 'html.parser')\n",
        "\n",
        "        # Extract visible text from headings and paragraphs\n",
        "        text_elements = soup.find_all(['p', 'h1', 'h2', 'h3', 'span'])\n",
        "        content = ' '.join([elem.get_text(strip=True) for elem in text_elements])\n",
        "        content = re.sub(r'\\s+', ' ', content)  # Normalize whitespace\n",
        "        return content[:5000]  # Limit length\n",
        "    except Exception as e:\n",
        "        return f\"Scraping failed: {str(e)}\"\n",
        "\n",
        "\n",
        "# ========================\n",
        "# 🧠 Agentic Search (Tavily) - Smart, AI-Powered\n",
        "# ========================\n",
        "def agentic_search(query):\n",
        "    try:\n",
        "        result = tavily_client.search(\n",
        "            query=query,\n",
        "            include_answer=True,\n",
        "            include_sources=True,\n",
        "            max_results=3\n",
        "        )\n",
        "        # Ensure sources is a list, even if missing\n",
        "        if \"sources\" not in result:\n",
        "            result[\"sources\"] = []\n",
        "        return result\n",
        "    except Exception as e:\n",
        "        return {\"error\": f\"Tavily search failed: {str(e)}\"}\n"
      ],
      "metadata": {
        "id": "armG14W8aBkV"
      },
      "execution_count": 19,
      "outputs": []
    },
    {
      "cell_type": "code",
      "source": [
        "\n",
        "\n",
        "# ========================\n",
        "# 🎯 Example Query\n",
        "# ========================\n",
        "city = \"San Francisco\"\n",
        "query = f\"What is the current weather in {city}? Should I travel there today?\"\n",
        "\n",
        "print(\"🔍 QUERY:\", query)\n",
        "print(\"\\n\" + \"=\"*80)"
      ],
      "metadata": {
        "colab": {
          "base_uri": "https://localhost:8080/"
        },
        "id": "vWHx0AaNaHOA",
        "outputId": "f6058ff8-7ae5-41d3-c340-f2249812ec60"
      },
      "execution_count": 20,
      "outputs": [
        {
          "output_type": "stream",
          "name": "stdout",
          "text": [
            "🔍 QUERY: What is the current weather in San Francisco? Should I travel there today?\n",
            "\n",
            "================================================================================\n"
          ]
        }
      ]
    },
    {
      "cell_type": "code",
      "source": [],
      "metadata": {
        "id": "124RzzFWZvyo"
      },
      "execution_count": null,
      "outputs": []
    },
    {
      "cell_type": "markdown",
      "source": [
        "Normal Search (Traditional Web Scraping)"
      ],
      "metadata": {
        "id": "7SZTaMVZaYuI"
      }
    },
    {
      "cell_type": "code",
      "source": [
        "print(\"🌐 NORMAL SEARCH: DuckDuckGo + Scraping\")\n",
        "print(\"=\"*80)\n",
        "\n",
        "# Step 1: Search and get URLs\n",
        "urls = normal_search(query, max_results=1)\n",
        "\n",
        "if not urls:\n",
        "    print(\"❌ No URLs found. Cannot proceed with scraping.\")\n",
        "else:\n",
        "    print(\"🔗 Found URL:\", urls[0])\n",
        "\n",
        "    # Step 2: Scrape content\n",
        "    raw_content = scrape_content(urls[0])\n",
        "    print(\"\\n📄 Raw scraped content (first 500 chars):\")\n",
        "    print(raw_content[:500] + \"...\\n\")\n",
        "\n",
        "    # Step 3: Try to extract useful info (manual parsing)\n",
        "    if len(raw_content) > 10:  # Check if we got *some* content\n",
        "        print(\"✅ Successfully scraped content.\")\n",
        "        if \"weather\" in raw_content.lower() or \"forecast\" in raw_content.lower():\n",
        "            print(\"🌤️  Found weather-related keywords.\")\n",
        "        else:\n",
        "            print(\"⚠️  No clear weather info found in the content.\")\n",
        "    else:\n",
        "        print(\"❌ Scraped content is empty or invalid.\")\n",
        "\n",
        "print(\"\\n⚠️ Limitations of Normal Search:\")\n",
        "print(\"  • Hard to parse dynamic content (e.g., JavaScript-heavy sites)\")\n",
        "print(\"  • May miss key facts due to poor layout parsing\")\n",
        "print(\"  • No summarization — you get raw text\")\n",
        "print(\"  • Fragile: breaks if site changes its HTML structure\")\n",
        "print(\"  • No semantic understanding of relevance\")"
      ],
      "metadata": {
        "colab": {
          "base_uri": "https://localhost:8080/"
        },
        "id": "dDtNheeDaZdb",
        "outputId": "2d9ee5e2-3773-49e5-ed43-e42ec13be213"
      },
      "execution_count": 22,
      "outputs": [
        {
          "output_type": "stream",
          "name": "stdout",
          "text": [
            "🌐 NORMAL SEARCH: DuckDuckGo + Scraping\n",
            "================================================================================\n",
            "🔗 Found URL: https://forums.att.com/conversations/wireless-account/need-help/62cc8d3461d3c72dc2899213\n"
          ]
        },
        {
          "output_type": "stream",
          "name": "stderr",
          "text": [
            "/tmp/ipython-input-336220910.py:7: RuntimeWarning: This package (`duckduckgo_search`) has been renamed to `ddgs`! Use `pip install ddgs` instead.\n",
            "  with DDGS() as ddgs:\n"
          ]
        },
        {
          "output_type": "stream",
          "name": "stdout",
          "text": [
            "\n",
            "📄 Raw scraped content (first 500 chars):\n",
            "Menu Menu Deals Wireless Internet Accessories Prepaid Search Support Account Start of main content We're still here for you The AT&T Community Forums have closed. Try these digital resources to find what you’re looking for. How can we help you today? Get the myAT&T app Access all your account info in one place: View and pay your bill Make and confirm payments Shop and upgrade your device TextmyATTto556699for the link. Message and data rates may apply. Use the Smart Home Manager app Manage your W...\n",
            "\n",
            "✅ Successfully scraped content.\n",
            "⚠️  No clear weather info found in the content.\n",
            "\n",
            "⚠️ Limitations of Normal Search:\n",
            "  • Hard to parse dynamic content (e.g., JavaScript-heavy sites)\n",
            "  • May miss key facts due to poor layout parsing\n",
            "  • No summarization — you get raw text\n",
            "  • Fragile: breaks if site changes its HTML structure\n",
            "  • No semantic understanding of relevance\n"
          ]
        }
      ]
    },
    {
      "cell_type": "code",
      "source": [
        "print(\"\\n\\n🧠 AGENIC SEARCH: Tavily AI Search\")\n",
        "print(\"=\"*80)\n",
        "\n",
        "# Perform agentic search\n",
        "result = agentic_search(query)\n",
        "\n",
        "if \"error\" in result:\n",
        "    print(result[\"error\"])\n",
        "else:\n",
        "    print(\"✅ AI-Generated Answer:\")\n",
        "    print(result[\"answer\"])\n",
        "\n",
        "    print(\"\\n📚 Sources:\")\n",
        "    for i, source in enumerate(result[\"sources\"], 1):\n",
        "        print(f\"  {i}. {source}\")\n",
        "\n",
        "    print(\"\\n🔍 Raw Results (for debugging):\")\n",
        "    # Pretty-print JSON with syntax highlighting\n",
        "    formatted_json = json.dumps(result, indent=4)\n",
        "    colorful_json = highlight(formatted_json, lexers.JsonLexer(), formatters.TerminalFormatter())\n",
        "    print(colorful_json)"
      ],
      "metadata": {
        "colab": {
          "base_uri": "https://localhost:8080/"
        },
        "id": "-vHL0LOiarJo",
        "outputId": "badbfb58-2b9e-4d41-fcf6-a968c953900f"
      },
      "execution_count": 17,
      "outputs": [
        {
          "output_type": "stream",
          "name": "stdout",
          "text": [
            "\n",
            "\n",
            "🧠 AGENIC SEARCH: Tavily AI Search\n",
            "================================================================================\n",
            "✅ AI-Generated Answer:\n",
            "Today in San Francisco, it's partly cloudy with a temperature of 62°F. Travel is feasible, but check for any sudden weather changes.\n",
            "\n",
            "📚 Sources:\n",
            "\n",
            "🔍 Raw Results (for debugging):\n",
            "{\u001b[37m\u001b[39;49;00m\n",
            "\u001b[37m    \u001b[39;49;00m\u001b[94m\"query\"\u001b[39;49;00m:\u001b[37m \u001b[39;49;00m\u001b[33m\"What is the current weather in San Francisco? Should I travel there today?\"\u001b[39;49;00m,\u001b[37m\u001b[39;49;00m\n",
            "\u001b[37m    \u001b[39;49;00m\u001b[94m\"follow_up_questions\"\u001b[39;49;00m:\u001b[37m \u001b[39;49;00m\u001b[34mnull\u001b[39;49;00m,\u001b[37m\u001b[39;49;00m\n",
            "\u001b[37m    \u001b[39;49;00m\u001b[94m\"answer\"\u001b[39;49;00m:\u001b[37m \u001b[39;49;00m\u001b[33m\"Today in San Francisco, it's partly cloudy with a temperature of 62\\u00b0F. Travel is feasible, but check for any sudden weather changes.\"\u001b[39;49;00m,\u001b[37m\u001b[39;49;00m\n",
            "\u001b[37m    \u001b[39;49;00m\u001b[94m\"images\"\u001b[39;49;00m:\u001b[37m \u001b[39;49;00m[],\u001b[37m\u001b[39;49;00m\n",
            "\u001b[37m    \u001b[39;49;00m\u001b[94m\"results\"\u001b[39;49;00m:\u001b[37m \u001b[39;49;00m[\u001b[37m\u001b[39;49;00m\n",
            "\u001b[37m        \u001b[39;49;00m{\u001b[37m\u001b[39;49;00m\n",
            "\u001b[37m            \u001b[39;49;00m\u001b[94m\"title\"\u001b[39;49;00m:\u001b[37m \u001b[39;49;00m\u001b[33m\"Weather in San Francisco\"\u001b[39;49;00m,\u001b[37m\u001b[39;49;00m\n",
            "\u001b[37m            \u001b[39;49;00m\u001b[94m\"url\"\u001b[39;49;00m:\u001b[37m \u001b[39;49;00m\u001b[33m\"https://www.weatherapi.com/\"\u001b[39;49;00m,\u001b[37m\u001b[39;49;00m\n",
            "\u001b[37m            \u001b[39;49;00m\u001b[94m\"content\"\u001b[39;49;00m:\u001b[37m \u001b[39;49;00m\u001b[33m\"{'location': {'name': 'San Francisco', 'region': 'California', 'country': 'United States of America', 'lat': 37.775, 'lon': -122.4183, 'tz_id': 'America/Los_Angeles', 'localtime_epoch': 1755325734, 'localtime': '2025-08-15 23:28'}, 'current': {'last_updated_epoch': 1755324900, 'last_updated': '2025-08-15 23:15', 'temp_c': 16.7, 'temp_f': 62.1, 'is_day': 0, 'condition': {'text': 'Partly cloudy', 'icon': '//cdn.weatherapi.com/weather/64x64/night/116.png', 'code': 1003}, 'wind_mph': 15.7, 'wind_kph': 25.2, 'wind_degree': 272, 'wind_dir': 'W', 'pressure_mb': 1015.0, 'pressure_in': 29.96, 'precip_mm': 0.0, 'precip_in': 0.0, 'humidity': 90, 'cloud': 75, 'feelslike_c': 16.7, 'feelslike_f': 62.1, 'windchill_c': 15.7, 'windchill_f': 60.3, 'heatindex_c': 15.7, 'heatindex_f': 60.3, 'dewpoint_c': 15.3, 'dewpoint_f': 59.5, 'vis_km': 16.0, 'vis_miles': 9.0, 'uv': 0.0, 'gust_mph': 23.7, 'gust_kph': 38.1}}\"\u001b[39;49;00m,\u001b[37m\u001b[39;49;00m\n",
            "\u001b[37m            \u001b[39;49;00m\u001b[94m\"score\"\u001b[39;49;00m:\u001b[37m \u001b[39;49;00m\u001b[34m0.9874608\u001b[39;49;00m,\u001b[37m\u001b[39;49;00m\n",
            "\u001b[37m            \u001b[39;49;00m\u001b[94m\"raw_content\"\u001b[39;49;00m:\u001b[37m \u001b[39;49;00m\u001b[34mnull\u001b[39;49;00m\u001b[37m\u001b[39;49;00m\n",
            "\u001b[37m        \u001b[39;49;00m},\u001b[37m\u001b[39;49;00m\n",
            "\u001b[37m        \u001b[39;49;00m{\u001b[37m\u001b[39;49;00m\n",
            "\u001b[37m            \u001b[39;49;00m\u001b[94m\"url\"\u001b[39;49;00m:\u001b[37m \u001b[39;49;00m\u001b[33m\"https://world-weather.info/forecast/usa/san_francisco/16-august/\"\u001b[39;49;00m,\u001b[37m\u001b[39;49;00m\n",
            "\u001b[37m            \u001b[39;49;00m\u001b[94m\"title\"\u001b[39;49;00m:\u001b[37m \u001b[39;49;00m\u001b[33m\"Weather in San Francisco, August 16\"\u001b[39;49;00m,\u001b[37m\u001b[39;49;00m\n",
            "\u001b[37m            \u001b[39;49;00m\u001b[94m\"content\"\u001b[39;49;00m:\u001b[37m \u001b[39;49;00m\u001b[33m\"Detailed \\u26a1 Weather Forecast for August 16 in San Francisco, California ... August 16, 2025. Night. +59\\u00b0. 13. 29.8. 86%. Morning. +66\\u00b0. 15.9. 29.9. 71%. Day. +68\"\u001b[39;49;00m,\u001b[37m\u001b[39;49;00m\n",
            "\u001b[37m            \u001b[39;49;00m\u001b[94m\"score\"\u001b[39;49;00m:\u001b[37m \u001b[39;49;00m\u001b[34m0.84948516\u001b[39;49;00m,\u001b[37m\u001b[39;49;00m\n",
            "\u001b[37m            \u001b[39;49;00m\u001b[94m\"raw_content\"\u001b[39;49;00m:\u001b[37m \u001b[39;49;00m\u001b[34mnull\u001b[39;49;00m\u001b[37m\u001b[39;49;00m\n",
            "\u001b[37m        \u001b[39;49;00m},\u001b[37m\u001b[39;49;00m\n",
            "\u001b[37m        \u001b[39;49;00m{\u001b[37m\u001b[39;49;00m\n",
            "\u001b[37m            \u001b[39;49;00m\u001b[94m\"url\"\u001b[39;49;00m:\u001b[37m \u001b[39;49;00m\u001b[33m\"https://www.easeweather.com/north-america/united-states/california/city-and-county-of-san-francisco/san-francisco/august\"\u001b[39;49;00m,\u001b[37m\u001b[39;49;00m\n",
            "\u001b[37m            \u001b[39;49;00m\u001b[94m\"title\"\u001b[39;49;00m:\u001b[37m \u001b[39;49;00m\u001b[33m\"Weather in San Francisco in August 2025 - Detailed Forecast\"\u001b[39;49;00m,\u001b[37m\u001b[39;49;00m\n",
            "\u001b[37m            \u001b[39;49;00m\u001b[94m\"content\"\u001b[39;49;00m:\u001b[37m \u001b[39;49;00m\u001b[33m\"Enjoy moderate daytime temperatures of up to 69\\u00b0 and cooler nights around 55\\u00b0. Ideal for a range of outdoor activities, from hiking to city tours. How much\"\u001b[39;49;00m,\u001b[37m\u001b[39;49;00m\n",
            "\u001b[37m            \u001b[39;49;00m\u001b[94m\"score\"\u001b[39;49;00m:\u001b[37m \u001b[39;49;00m\u001b[34m0.779339\u001b[39;49;00m,\u001b[37m\u001b[39;49;00m\n",
            "\u001b[37m            \u001b[39;49;00m\u001b[94m\"raw_content\"\u001b[39;49;00m:\u001b[37m \u001b[39;49;00m\u001b[34mnull\u001b[39;49;00m\u001b[37m\u001b[39;49;00m\n",
            "\u001b[37m        \u001b[39;49;00m}\u001b[37m\u001b[39;49;00m\n",
            "\u001b[37m    \u001b[39;49;00m],\u001b[37m\u001b[39;49;00m\n",
            "\u001b[37m    \u001b[39;49;00m\u001b[94m\"response_time\"\u001b[39;49;00m:\u001b[37m \u001b[39;49;00m\u001b[34m2.51\u001b[39;49;00m,\u001b[37m\u001b[39;49;00m\n",
            "\u001b[37m    \u001b[39;49;00m\u001b[94m\"request_id\"\u001b[39;49;00m:\u001b[37m \u001b[39;49;00m\u001b[33m\"c84ac82a-e9a5-4285-9926-42b0bef58e24\"\u001b[39;49;00m,\u001b[37m\u001b[39;49;00m\n",
            "\u001b[37m    \u001b[39;49;00m\u001b[94m\"sources\"\u001b[39;49;00m:\u001b[37m \u001b[39;49;00m[]\u001b[37m\u001b[39;49;00m\n",
            "}\u001b[37m\u001b[39;49;00m\n",
            "\n"
          ]
        }
      ]
    },
    {
      "cell_type": "code",
      "source": [
        "print(\"\\n\" + \"=\"*80)\n",
        "print(\"🎯 COMPARISON: Normal vs Agentic Search\")\n",
        "print(\"=\"*80)\n",
        "\n",
        "print(\"\"\"\n",
        "🟢 Agentic Search (Tavily) Benefits:\n",
        "   • Returns a direct, natural language answer\n",
        "   • Synthesizes info from multiple sources\n",
        "   • Includes citations (sources)\n",
        "   • Handles ambiguity and intent\n",
        "   • No scraping or parsing needed\n",
        "   • Works even if websites change\n",
        "\n",
        "🔴 Normal Search (Scraping) Drawbacks:\n",
        "   • Returns raw HTML/text — you must parse it\n",
        "   • Fragile: breaks when site layout changes\n",
        "   • Requires manual logic to extract facts\n",
        "   • No summarization or reasoning\n",
        "   • Hard to scale across topics\n",
        "\n",
        "💡 Conclusion:\n",
        "Agentic search turns the web into a **knowledge engine**.\n",
        "Normal search just gives you links — you do all the work.\n",
        "\"\"\")\n",
        "\n",
        "print(\"✅ Try changing the query and re-running!\")"
      ],
      "metadata": {
        "colab": {
          "base_uri": "https://localhost:8080/"
        },
        "id": "ouRKlU6QayHJ",
        "outputId": "496dbfb8-2dc3-49e9-cda3-44e26467acf9"
      },
      "execution_count": 7,
      "outputs": [
        {
          "output_type": "stream",
          "name": "stdout",
          "text": [
            "\n",
            "================================================================================\n",
            "🎯 COMPARISON: Normal vs Agentic Search\n",
            "================================================================================\n",
            "\n",
            "🟢 Agentic Search (Tavily) Benefits:\n",
            "   • Returns a direct, natural language answer\n",
            "   • Synthesizes info from multiple sources\n",
            "   • Includes citations (sources)\n",
            "   • Handles ambiguity and intent\n",
            "   • No scraping or parsing needed\n",
            "   • Works even if websites change\n",
            "\n",
            "🔴 Normal Search (Scraping) Drawbacks:\n",
            "   • Returns raw HTML/text — you must parse it\n",
            "   • Fragile: breaks when site layout changes\n",
            "   • Requires manual logic to extract facts\n",
            "   • No summarization or reasoning\n",
            "   • Hard to scale across topics\n",
            "\n",
            "💡 Conclusion:\n",
            "Agentic search turns the web into a **knowledge engine**.\n",
            "Normal search just gives you links — you do all the work.\n",
            "\n",
            "✅ Try changing the query and re-running!\n"
          ]
        }
      ]
    }
  ]
}