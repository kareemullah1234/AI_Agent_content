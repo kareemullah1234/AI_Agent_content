{
  "nbformat": 4,
  "nbformat_minor": 0,
  "metadata": {
    "colab": {
      "provenance": [],
      "authorship_tag": "ABX9TyPwDk3XN/Cezo1fCfE8f8eu",
      "include_colab_link": true
    },
    "kernelspec": {
      "name": "python3",
      "display_name": "Python 3"
    },
    "language_info": {
      "name": "python"
    }
  },
  "cells": [
    {
      "cell_type": "markdown",
      "metadata": {
        "id": "view-in-github",
        "colab_type": "text"
      },
      "source": [
        "<a href=\"https://colab.research.google.com/github/kareemullah1234/AI_Agent_content/blob/main/Agent_wiki_2.ipynb\" target=\"_parent\"><img src=\"https://colab.research.google.com/assets/colab-badge.svg\" alt=\"Open In Colab\"/></a>"
      ]
    },
    {
      "cell_type": "code",
      "execution_count": 2,
      "metadata": {
        "colab": {
          "base_uri": "https://localhost:8080/"
        },
        "id": "JChtVLZtUCQK",
        "outputId": "3574bd29-3977-4425-dc40-e61eeb1ebd86"
      },
      "outputs": [
        {
          "output_type": "stream",
          "name": "stdout",
          "text": [
            "\u001b[?25l   \u001b[90m━━━━━━━━━━━━━━━━━━━━━━━━━━━━━━━━━━━━━━━━\u001b[0m \u001b[32m0.0/131.4 kB\u001b[0m \u001b[31m?\u001b[0m eta \u001b[36m-:--:--\u001b[0m\r\u001b[2K   \u001b[90m━━━━━━━━━━━━━━━━━━━━━━━━━━━━━━━━━━━━━━━━\u001b[0m \u001b[32m131.4/131.4 kB\u001b[0m \u001b[31m3.7 MB/s\u001b[0m eta \u001b[36m0:00:00\u001b[0m\n",
            "\u001b[?25h"
          ]
        }
      ],
      "source": [
        "!pip install groq httpx simpleeval -q"
      ]
    },
    {
      "cell_type": "code",
      "source": [
        "from simpleeval import SimpleEval\n",
        "\n",
        "def calculate(expr):\n",
        "    expr = ''.join(c for c in expr if c in '0123456789+-*/(). ')\n",
        "    expr = expr.strip()\n",
        "    if not expr:\n",
        "        return \"Error: Empty expression\"\n",
        "    try:\n",
        "        return str(SimpleEval().eval(expr))\n",
        "    except SyntaxError:\n",
        "        return \"Error: Invalid expression\"\n",
        "    except NameError:\n",
        "        return \"Error: Contains invalid variables\"\n",
        "    except ZeroDivisionError:\n",
        "        return \"Error: Division by zero\"\n",
        "    except Exception as e:\n",
        "        return f\"Error: {e}\"\n",
        "\n",
        "# Test it\n",
        "print(calculate(\"15 * 25\"))   # → \"375\"\n",
        "print(calculate(\"1 / 0\"))     # → \"Error: Division by zero\"\n",
        "print(calculate(\"1 + xyz\"))   # → \"Error: Contains invalid variables\""
      ],
      "metadata": {
        "colab": {
          "base_uri": "https://localhost:8080/"
        },
        "id": "W8-x_Ou1VKcR",
        "outputId": "de96d309-d1dd-4f1c-9a03-a3fc4906f14a"
      },
      "execution_count": 4,
      "outputs": [
        {
          "output_type": "stream",
          "name": "stdout",
          "text": [
            "375\n",
            "Error: Division by zero\n",
            "Error: Invalid expression\n"
          ]
        }
      ]
    },
    {
      "cell_type": "code",
      "source": [
        "# !/usr/bin/env python\n",
        "# coding: utf-8\n",
        "\n",
        "# # 🧠 ReAct Agent with Groq + Wikipedia (Corrected & Robust)\n",
        "\n",
        "import re\n",
        "import httpx\n",
        "from groq import Groq\n",
        "#from simpleeval import SimpleEval, ParseError, NumberTooHigh\n",
        "\n",
        "# 🔑 Hardcoded Groq API Key\n",
        "\n",
        "\n",
        "# Initialize Groq client\n",
        "client = Groq(api_key=GROQ_API_KEY)\n",
        "\n",
        "# ========================\n",
        "# 🤖 Agent Class\n",
        "# ========================\n",
        "class Agent:\n",
        "    def __init__(self, system=\"\"):\n",
        "        self.system = system\n",
        "        self.messages = []\n",
        "        if system:\n",
        "            self.messages.append({\"role\": \"system\", \"content\": system})\n",
        "\n",
        "    def __call__(self, message):\n",
        "        self.messages.append({\"role\": \"user\", \"content\": message})\n",
        "        result = self.execute()\n",
        "        self.messages.append({\"role\": \"assistant\", \"content\": result})\n",
        "        return result\n",
        "\n",
        "    def execute(self):\n",
        "        try:\n",
        "            completion = client.chat.completions.create(\n",
        "                model=\"llama3-8b-8192\",  # Fast & capable\n",
        "                temperature=0,\n",
        "                max_tokens=512,\n",
        "                messages=self.messages\n",
        "            )\n",
        "            return completion.choices[0].message.content\n",
        "        except Exception as e:\n",
        "            return f\"API Error: {str(e)}\"\n",
        "\n",
        "\n",
        "# ========================\n",
        "# 🔧 Tools (Actions)\n",
        "# ========================\n",
        "\n",
        "def calculate(expr):\n",
        "    \"\"\"Safely evaluate mathematical expressions.\"\"\"\n",
        "    expr = re.sub(r'[^0-9+\\-*/().\\s]', '', expr)  # Sanitize\n",
        "    try:\n",
        "        result = SimpleEval().eval(expr)\n",
        "        return str(result)\n",
        "    except NumberTooHigh:\n",
        "        return \"Error: Number too large\"\n",
        "    except ParseError:\n",
        "        return \"Error: Invalid expression\"\n",
        "    except Exception as e:\n",
        "        return f\"Error: {str(e)}\"\n",
        "\n",
        "def wikipedia(query):\n",
        "    \"\"\"Search Wikipedia and return the snippet of the top result.\"\"\"\n",
        "    try:\n",
        "        response = httpx.get(\n",
        "            \"https://en.wikipedia.org/w/api.php\",\n",
        "            params={\n",
        "                \"action\": \"query\",\n",
        "                \"list\": \"search\",\n",
        "                \"srsearch\": query,\n",
        "                \"format\": \"json\"\n",
        "            },\n",
        "            timeout=10.0\n",
        "        )\n",
        "        data = response.json()\n",
        "        if data[\"query\"][\"search\"]:\n",
        "            snippet = data[\"query\"][\"search\"][0][\"snippet\"]\n",
        "            snippet = re.sub(r'<[^>]+>', '', snippet)  # Remove HTML\n",
        "            snippet = re.sub(r'\\s+', ' ', snippet)     # Normalize spaces\n",
        "            return snippet.strip()\n",
        "        return \"No Wikipedia results found.\"\n",
        "    except Exception as e:\n",
        "        return f\"Wikipedia error: {str(e)}\"\n",
        "\n",
        "# Register known actions\n",
        "known_actions = {\n",
        "    \"calculate\": calculate,\n",
        "    \"wikipedia\": wikipedia\n",
        "}\n",
        "\n",
        "\n",
        "# ========================\n",
        "# 📜 ReAct Prompt (Strict Format)\n",
        "# ========================\n",
        "# prompt = \"\"\"\n",
        "# You run in a loop of Thought, Action, PAUSE, Observation.\n",
        "# At the end of the loop you output an Answer.\n",
        "\n",
        "# Use Thought to describe your reasoning.\n",
        "# Use Action to run **one** of the available actions in this exact format:\n",
        "# Action: action_name: input\n",
        "# Then say PAUSE.\n",
        "\n",
        "# You can only do **one thing at a time**. Never combine multiple actions.\n",
        "# Never make up values — always use tools to look things up.\n",
        "\n",
        "# Your available actions are:\n",
        "\n",
        "# calculate:\n",
        "# e.g. calculate: 4 * 7 / 3\n",
        "# Evaluates a math expression using Python syntax.\n",
        "\n",
        "# wikipedia:\n",
        "# e.g. wikipedia: Python programming language\n",
        "# Returns a summary from Wikipedia.\n",
        "\n",
        "# Always prefer to use Wikipedia to look up factual information.\n",
        "\n",
        "# Example:\n",
        "# Question: What is the capital of France?\n",
        "# Thought: I should look up France on Wikipedia\n",
        "# Action: wikipedia: France\n",
        "# PAUSE\n",
        "\n",
        "# Observation: France is a country in Western Europe. The capital is Paris.\n",
        "# Answer: The capital of France is Paris.\n",
        "# \"\"\".strip()\n",
        "\n",
        "prompt = \"\"\"\n",
        "You run in a loop of Thought, Action, PAUSE, Observation, and Response.\n",
        "\n",
        "At each step:\n",
        "1. Use **Thought** to reason about what to do next.\n",
        "2. Use **Action** to call one of the available functions in the exact format:\n",
        "   Action: action_name: input\n",
        "3. Then say **PAUSE**.\n",
        "4. You will be given an **Observation** with the result.\n",
        "5. Repeat until you have enough information.\n",
        "6. Finally, respond with **Answer: ...**\n",
        "\n",
        "### Rules:\n",
        "- You must **only** use the actions listed below.\n",
        "- You can only perform **one action per turn**.\n",
        "- Never combine multiple actions in one step.\n",
        "- Never make up facts — always use `wikipedia` to verify.\n",
        "- Never use `Action:` to give your final answer.\n",
        "- When you have enough information, output `Answer: ...` and stop.\n",
        "\n",
        "### Available Actions:\n",
        "calculate:\n",
        "e.g. calculate: 4 * 7 / 3\n",
        "Evaluates a mathematical expression using Python syntax.\n",
        "\n",
        "wikipedia:\n",
        "e.g. wikipedia: Mount Everest\n",
        "Searches Wikipedia and returns a summary snippet.\n",
        "\n",
        "### Example Session:\n",
        "\n",
        "Question: What is the tallest mountain in the world?\n",
        "Thought: I need to find the tallest mountain. I should search Wikipedia.\n",
        "Action: wikipedia: tallest mountain in the world\n",
        "PAUSE\n",
        "\n",
        "Observation: Mount Everest is the highest mountain above sea level, located in the Himalayas on the border between Nepal and the Tibet Autonomous Region of China. It stands at 8,849 metres (29,032 ft).\n",
        "\n",
        "Thought: Now I know the tallest mountain is Mount Everest and its height.\n",
        "Answer: The tallest mountain in the world is Mount Everest, which stands at 8,849 meters (29,032 feet) above sea level.\n",
        "\"\"\".strip()\n",
        "# ========================\n",
        "# 🔍 Action Parser\n",
        "# ========================\n",
        "action_re = re.compile(r'^Action: (\\w+): (.+)$')\n",
        "\n",
        "def extract_action(text):\n",
        "    \"\"\"Extract the first valid action from the response.\"\"\"\n",
        "    for line in text.strip().split('\\n'):\n",
        "        match = action_re.match(line.strip())\n",
        "        if match:\n",
        "            return match.groups()\n",
        "    return None\n",
        "\n",
        "\n",
        "# ========================\n",
        "# 🔁 Main Query Loop\n",
        "# ========================\n",
        "def query(question, max_turns=5):\n",
        "    i = 0\n",
        "    bot = Agent(prompt)\n",
        "    next_prompt = question\n",
        "    while i < max_turns:\n",
        "        i += 1\n",
        "        result = bot(next_prompt)\n",
        "        print(result)\n",
        "\n",
        "        # Extract action\n",
        "        action_match = extract_action(result)\n",
        "        if not action_match:\n",
        "            break  # No valid action → likely final answer\n",
        "\n",
        "        action, action_input = action_match\n",
        "        if action not in known_actions:\n",
        "            next_prompt = f\"Error: Unknown action '{action}'. Use only 'calculate' or 'wikipedia'.\"\n",
        "            print(f\"Error: Unknown action: {action}\")\n",
        "            continue\n",
        "\n",
        "        print(f\" -- running {action}: {action_input}\")\n",
        "        observation = known_actions[action](action_input)\n",
        "        print(\"Observation:\", observation)\n",
        "        next_prompt = f\"Observation: {observation}\"\n",
        "\n",
        "    # Final message history (optional)\n",
        "    # print(\"\\nFull conversation:\")\n",
        "    # for msg in bot.messages:\n",
        "    #     print(f\"{msg['role']}: {msg['content']}\\n\")\n",
        "\n",
        "\n",
        "# ========================\n",
        "# 🧪 Test Cases\n",
        "# ========================"
      ],
      "metadata": {
        "id": "tDSq421ZUWoN"
      },
      "execution_count": 9,
      "outputs": []
    },
    {
      "cell_type": "code",
      "source": [
        "#MAths"
      ],
      "metadata": {
        "id": "JHADv-yJUWrG"
      },
      "execution_count": null,
      "outputs": []
    },
    {
      "cell_type": "code",
      "source": [
        "query(\"Fifteen times twenty five?\")"
      ],
      "metadata": {
        "colab": {
          "base_uri": "https://localhost:8080/"
        },
        "id": "UcB2h7i0UWs9",
        "outputId": "d581d167-f75d-496a-f23b-2361e189985c"
      },
      "execution_count": 10,
      "outputs": [
        {
          "output_type": "stream",
          "name": "stdout",
          "text": [
            "Thought: I need to calculate the result of the multiplication.\n",
            "Action: calculate: 15 * 25\n",
            "PAUSE\n",
            " -- running calculate: 15 * 25\n",
            "Observation: 375\n",
            "Thought: Now I know the result of the multiplication.\n",
            "Action: None\n",
            "PAUSE\n"
          ]
        }
      ]
    },
    {
      "cell_type": "code",
      "source": [
        "#Geography (Uses Wikipedia)"
      ],
      "metadata": {
        "id": "EPAvmVy2Vk05"
      },
      "execution_count": 7,
      "outputs": []
    },
    {
      "cell_type": "code",
      "source": [
        "query(\"What is the tallest mountain in the world?\")"
      ],
      "metadata": {
        "colab": {
          "base_uri": "https://localhost:8080/"
        },
        "id": "ibWvnZrVVokW",
        "outputId": "28d904c6-1bda-42af-fa1e-c1127d378a76"
      },
      "execution_count": 11,
      "outputs": [
        {
          "output_type": "stream",
          "name": "stdout",
          "text": [
            "Thought: I need to find the tallest mountain. I should search Wikipedia.\n",
            "\n",
            "Action: wikipedia: tallest mountain in the world\n",
            "\n",
            "PAUSE\n",
            " -- running wikipedia: tallest mountain in the world\n",
            "Observation: This is a list of mountain peaks ordered by their topographic prominence. The prominence of a peak is the minimum height of climb to the summit on any route\n",
            "Thought: That's not what I was looking for. I need to know the name of the tallest mountain. I should try again.\n",
            "\n",
            "Action: wikipedia: Mount Everest\n",
            "\n",
            "PAUSE\n",
            " -- running wikipedia: Mount Everest\n",
            "Observation: misplaced vowels or missing conjuncts instead of Tibetan characters. Mount Everest (known locally as Sagarmatha in Nepal and Qomolangma in Tibet), is Earth&#039;s\n",
            "Thought: Ah, I think I'm getting closer! Mount Everest is the name of the tallest mountain. I should try to find its height.\n",
            "\n",
            "Action: wikipedia: Mount Everest\n",
            "\n",
            "PAUSE\n",
            " -- running wikipedia: Mount Everest\n",
            "Observation: misplaced vowels or missing conjuncts instead of Tibetan characters. Mount Everest (known locally as Sagarmatha in Nepal and Qomolangma in Tibet), is Earth&#039;s\n",
            "Thought: I already got that information. I need to find the height of Mount Everest. I should calculate it.\n",
            "\n",
            "Action: calculate: 8848\n",
            "\n",
            "PAUSE\n",
            " -- running calculate: 8848\n",
            "Observation: 8848\n",
            "Thought: Ah, I got the height of Mount Everest! Now I can answer the question.\n",
            "\n",
            "Action: calculate: 8848 / 1\n",
            "\n",
            "PAUSE\n",
            " -- running calculate: 8848 / 1\n",
            "Observation: 8848.0\n"
          ]
        }
      ]
    },
    {
      "cell_type": "code",
      "source": [],
      "metadata": {
        "id": "O6YWVRepVonL"
      },
      "execution_count": null,
      "outputs": []
    },
    {
      "cell_type": "code",
      "source": [],
      "metadata": {
        "id": "R0cQFVbsVopz"
      },
      "execution_count": null,
      "outputs": []
    },
    {
      "cell_type": "code",
      "source": [],
      "metadata": {
        "id": "ky0EyFkIVoss"
      },
      "execution_count": null,
      "outputs": []
    }
  ]
}